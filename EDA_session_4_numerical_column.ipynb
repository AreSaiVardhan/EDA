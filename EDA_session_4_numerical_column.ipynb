{
 "cells": [
  {
   "cell_type": "code",
   "execution_count": 1,
   "id": "0fdb46b1-9053-402a-8422-8fb0883bd831",
   "metadata": {},
   "outputs": [],
   "source": [
    "import pandas as pd\n",
    "import numpy as np\n",
    "import matplotlib.pyplot as plt\n",
    "import seaborn as sns"
   ]
  },
  {
   "cell_type": "code",
   "execution_count": 2,
   "id": "88e74df1-582c-415c-8434-85290dfd7a72",
   "metadata": {},
   "outputs": [],
   "source": [
    "visa_df=pd.read_csv('visadataset.csv')\n",
    "cat=visa_df.select_dtypes(include='object').columns\n",
    "num=visa_df.select_dtypes(exclude='object').columns"
   ]
  },
  {
   "cell_type": "code",
   "execution_count": 3,
   "id": "eccdf64c-3993-404b-bf1f-785fd1d126ae",
   "metadata": {},
   "outputs": [
    {
     "data": {
      "text/plain": [
       "Index(['no_of_employees', 'yr_of_estab', 'prevailing_wage'], dtype='object')"
      ]
     },
     "execution_count": 3,
     "metadata": {},
     "output_type": "execute_result"
    }
   ],
   "source": [
    "num"
   ]
  },
  {
   "cell_type": "markdown",
   "id": "fd6b2635-04e5-4534-8525-af21570472fc",
   "metadata": {},
   "source": [
    "**prevailing_wage**"
   ]
  },
  {
   "cell_type": "markdown",
   "id": "a4bde51c-e503-4ddb-aa2c-ab51f567d15a",
   "metadata": {},
   "source": [
    "- count\n",
    "\n",
    "- min\n",
    "\n",
    "- max\n",
    "\n",
    "- mean\n",
    "\n",
    "- median\n",
    "\n",
    "- 25%\n",
    "\n",
    "- 50%\n",
    "\n",
    "- 75%"
   ]
  },
  {
   "cell_type": "markdown",
   "id": "5b832648-11a1-494b-bba0-050c7f06a35a",
   "metadata": {},
   "source": [
    "**count or len**"
   ]
  },
  {
   "cell_type": "code",
   "execution_count": 4,
   "id": "09e9f633-1552-4e7d-9012-8bd5223f6130",
   "metadata": {},
   "outputs": [
    {
     "data": {
      "text/plain": [
       "25480"
      ]
     },
     "execution_count": 4,
     "metadata": {},
     "output_type": "execute_result"
    }
   ],
   "source": [
    "len(visa_df['prevailing_wage'])"
   ]
  },
  {
   "cell_type": "code",
   "execution_count": 5,
   "id": "b97d56c8-e560-4063-b98a-6adcc3326757",
   "metadata": {},
   "outputs": [
    {
     "data": {
      "text/plain": [
       "25480"
      ]
     },
     "execution_count": 5,
     "metadata": {},
     "output_type": "execute_result"
    }
   ],
   "source": [
    "wage_data=visa_df['prevailing_wage']\n",
    "len(wage_data)"
   ]
  },
  {
   "cell_type": "markdown",
   "id": "3fb46388-9b87-409e-8e60-aa3179ee9a22",
   "metadata": {},
   "source": [
    "**mean**"
   ]
  },
  {
   "cell_type": "code",
   "execution_count": 6,
   "id": "143937d8-9ed7-41b1-b633-9d1f48da68c9",
   "metadata": {},
   "outputs": [
    {
     "data": {
      "text/plain": [
       "74455.81459209183"
      ]
     },
     "execution_count": 6,
     "metadata": {},
     "output_type": "execute_result"
    }
   ],
   "source": [
    "visa_df['prevailing_wage'].mean()"
   ]
  },
  {
   "cell_type": "code",
   "execution_count": 7,
   "id": "61c591ec-5358-4ea1-b133-1f71f7277f7e",
   "metadata": {},
   "outputs": [
    {
     "data": {
      "text/plain": [
       "74455.81"
      ]
     },
     "execution_count": 7,
     "metadata": {},
     "output_type": "execute_result"
    }
   ],
   "source": [
    "round(visa_df['prevailing_wage'].mean(),2)"
   ]
  },
  {
   "cell_type": "markdown",
   "id": "00013d1b-17d0-4fa1-9fe5-2d0dbc745d23",
   "metadata": {},
   "source": [
    "**median**"
   ]
  },
  {
   "cell_type": "code",
   "execution_count": 8,
   "id": "2ead9ef0-0156-46a2-ae1c-68b40c9258ea",
   "metadata": {},
   "outputs": [
    {
     "data": {
      "text/plain": [
       "70308.20999999999"
      ]
     },
     "execution_count": 8,
     "metadata": {},
     "output_type": "execute_result"
    }
   ],
   "source": [
    "visa_df['prevailing_wage'].median()"
   ]
  },
  {
   "cell_type": "code",
   "execution_count": 9,
   "id": "4926d844-cb9a-4145-965a-308445676dbd",
   "metadata": {},
   "outputs": [
    {
     "data": {
      "text/plain": [
       "70308.21"
      ]
     },
     "execution_count": 9,
     "metadata": {},
     "output_type": "execute_result"
    }
   ],
   "source": [
    "round(visa_df['prevailing_wage'].median(),2)"
   ]
  },
  {
   "cell_type": "markdown",
   "id": "e506cd02-1999-4c1d-aae3-57d058b7a44b",
   "metadata": {},
   "source": [
    "**using_numpy**"
   ]
  },
  {
   "cell_type": "code",
   "execution_count": 10,
   "id": "acb6931e-1007-48b8-b7cf-89bf38ff8eb8",
   "metadata": {},
   "outputs": [
    {
     "data": {
      "text/plain": [
       "74455.81459209183"
      ]
     },
     "execution_count": 10,
     "metadata": {},
     "output_type": "execute_result"
    }
   ],
   "source": [
    "np.mean(visa_df['prevailing_wage'])"
   ]
  },
  {
   "cell_type": "code",
   "execution_count": 11,
   "id": "3f697899-512b-42f5-afae-6a3a1e6c6e52",
   "metadata": {},
   "outputs": [
    {
     "data": {
      "text/plain": [
       "74455.81"
      ]
     },
     "execution_count": 11,
     "metadata": {},
     "output_type": "execute_result"
    }
   ],
   "source": [
    "wage_data=visa_df['prevailing_wage']\n",
    "round(np.mean(wage_data),2)"
   ]
  },
  {
   "cell_type": "code",
   "execution_count": 12,
   "id": "5fda6854-93d0-43d5-bbbe-553f8ee44597",
   "metadata": {},
   "outputs": [
    {
     "data": {
      "text/plain": [
       "70308.21"
      ]
     },
     "execution_count": 12,
     "metadata": {},
     "output_type": "execute_result"
    }
   ],
   "source": [
    "round(np.median(wage_data),2)"
   ]
  },
  {
   "cell_type": "markdown",
   "id": "5a5c8bea-f26b-4ec4-8ac1-252c24808bbb",
   "metadata": {},
   "source": [
    "**mode**"
   ]
  },
  {
   "cell_type": "code",
   "execution_count": 13,
   "id": "2169bc5b-d6aa-4085-a8ac-034426231349",
   "metadata": {},
   "outputs": [
    {
     "data": {
      "text/plain": [
       "0        100.66\n",
       "1        102.70\n",
       "2        105.96\n",
       "3        108.12\n",
       "4        109.06\n",
       "5        110.51\n",
       "6        111.11\n",
       "7        113.60\n",
       "8        118.43\n",
       "9        122.65\n",
       "10       127.89\n",
       "11       134.15\n",
       "12       138.76\n",
       "13      6036.67\n",
       "14     21894.51\n",
       "15     24258.73\n",
       "16     58770.05\n",
       "17     60948.15\n",
       "18     64357.58\n",
       "19     74645.92\n",
       "20     82560.28\n",
       "21     87751.88\n",
       "22     88664.77\n",
       "23     93356.03\n",
       "24    126813.75\n",
       "25    149907.39\n",
       "Name: prevailing_wage, dtype: float64"
      ]
     },
     "execution_count": 13,
     "metadata": {},
     "output_type": "execute_result"
    }
   ],
   "source": [
    "visa_df['prevailing_wage'].mode()"
   ]
  },
  {
   "cell_type": "code",
   "execution_count": 14,
   "id": "68232439-e58f-4885-aca4-4e894e9a2cdf",
   "metadata": {},
   "outputs": [
    {
     "data": {
      "text/plain": [
       "26"
      ]
     },
     "execution_count": 14,
     "metadata": {},
     "output_type": "execute_result"
    }
   ],
   "source": [
    "len(visa_df['prevailing_wage'].mode())"
   ]
  },
  {
   "cell_type": "code",
   "execution_count": 15,
   "id": "1b300ea6-5ce4-442b-8862-79d9ffeb9158",
   "metadata": {},
   "outputs": [
    {
     "ename": "AttributeError",
     "evalue": "module 'numpy' has no attribute 'mode'",
     "output_type": "error",
     "traceback": [
      "\u001b[1;31m---------------------------------------------------------------------------\u001b[0m",
      "\u001b[1;31mAttributeError\u001b[0m                            Traceback (most recent call last)",
      "Cell \u001b[1;32mIn[15], line 1\u001b[0m\n\u001b[1;32m----> 1\u001b[0m np\u001b[38;5;241m.\u001b[39mmode(visa_df[\u001b[38;5;124m'\u001b[39m\u001b[38;5;124mprevailing_wage\u001b[39m\u001b[38;5;124m'\u001b[39m])\n",
      "File \u001b[1;32mC:\\ProgramData\\anaconda3\\Lib\\site-packages\\numpy\\__init__.py:333\u001b[0m, in \u001b[0;36m__getattr__\u001b[1;34m(attr)\u001b[0m\n\u001b[0;32m    330\u001b[0m     \u001b[38;5;124m\"\u001b[39m\u001b[38;5;124mRemoved in NumPy 1.25.0\u001b[39m\u001b[38;5;124m\"\u001b[39m\n\u001b[0;32m    331\u001b[0m     \u001b[38;5;28;01mraise\u001b[39;00m \u001b[38;5;167;01mRuntimeError\u001b[39;00m(\u001b[38;5;124m\"\u001b[39m\u001b[38;5;124mTester was removed in NumPy 1.25.\u001b[39m\u001b[38;5;124m\"\u001b[39m)\n\u001b[1;32m--> 333\u001b[0m \u001b[38;5;28;01mraise\u001b[39;00m \u001b[38;5;167;01mAttributeError\u001b[39;00m(\u001b[38;5;124m\"\u001b[39m\u001b[38;5;124mmodule \u001b[39m\u001b[38;5;132;01m{!r}\u001b[39;00m\u001b[38;5;124m has no attribute \u001b[39m\u001b[38;5;124m\"\u001b[39m\n\u001b[0;32m    334\u001b[0m                      \u001b[38;5;124m\"\u001b[39m\u001b[38;5;132;01m{!r}\u001b[39;00m\u001b[38;5;124m\"\u001b[39m\u001b[38;5;241m.\u001b[39mformat(\u001b[38;5;18m__name__\u001b[39m, attr))\n",
      "\u001b[1;31mAttributeError\u001b[0m: module 'numpy' has no attribute 'mode'"
     ]
    }
   ],
   "source": [
    "np.mode(visa_df['prevailing_wage'])"
   ]
  },
  {
   "cell_type": "code",
   "execution_count": null,
   "id": "520e310f-ab14-4292-acb4-24e512502833",
   "metadata": {},
   "outputs": [],
   "source": [
    "wage_data=visa_df['prevailing_wage']\n",
    "wage_len=len(wage_data)\n",
    "wage_mean=round(wage_data.mean(),2)\n",
    "wage_median=round(wage_data.median(),2)\n",
    "wage_std=round(wage_data.std(),2)\n",
    "wage_min=round(wage_data.min(),2)\n",
    "wage_max=round(wage_data.max(),2)\n",
    "\n",
    "print(f'the total count is:{wage_len}')\n",
    "print(f'the mean of wage is:{wage_mean}')\n",
    "print(f'the median of wage is:{wage_median}')\n",
    "print(f'the min of wage is:{wage_min}')\n",
    "print(f'the max of wage is:{wage_max}')\n",
    "print(f'the std is:{wage_std}')"
   ]
  },
  {
   "cell_type": "code",
   "execution_count": null,
   "id": "4af37a83-92cf-4b34-9133-39494f0f61d6",
   "metadata": {},
   "outputs": [],
   "source": [
    "wage_data=visa_df['prevailing_wage']\n",
    "wage_len=len(wage_data)\n",
    "wage_mean=round(wage_data.mean(),2)\n",
    "wage_median=round(wage_data.median(),2)\n",
    "wage_std=round(wage_data.std(),2)\n",
    "wage_min=round(wage_data.min(),2)\n",
    "wage_max=round(wage_data.max(),2)\n",
    "\n",
    "\n",
    "idx=['count','Min','Max','Std','Mean','Median']\n",
    "data=[wage_len,wage_min,wage_max,wage_std,wage_mean,wage_median]\n",
    "cols=['prevailing_wage']\n",
    "df=pd.DataFrame(data,columns=cols,index=idx)\n",
    "df"
   ]
  },
  {
   "cell_type": "markdown",
   "id": "288d9b45-a684-4253-a738-008a6dc7b14d",
   "metadata": {},
   "source": [
    "**percentile and quantile**\n",
    "\n",
    "-  we want to find 25% - 50% - 75% or any by using **percentile-quantile** method\n",
    "\n",
    "- these methods available in numpy package\n",
    "\n",
    "- **percentile**\n",
    "\n",
    "    - np.percentile()"
   ]
  },
  {
   "cell_type": "code",
   "execution_count": 22,
   "id": "b95c47ec-6d11-471c-955c-49d3640365a4",
   "metadata": {},
   "outputs": [
    {
     "data": {
      "text/plain": [
       "34015.479999999996"
      ]
     },
     "execution_count": 22,
     "metadata": {},
     "output_type": "execute_result"
    }
   ],
   "source": [
    "wage_data=visa_df['prevailing_wage']\n",
    "np.percentile(wage_data,25)"
   ]
  },
  {
   "cell_type": "code",
   "execution_count": 23,
   "id": "86342c08-7f47-40a5-99a3-96b499d9289f",
   "metadata": {},
   "outputs": [
    {
     "data": {
      "text/plain": [
       "34015.479999999996"
      ]
     },
     "execution_count": 23,
     "metadata": {},
     "output_type": "execute_result"
    }
   ],
   "source": [
    "wage_data=visa_df['prevailing_wage']\n",
    "np.quantile(wage_data,0.25)"
   ]
  },
  {
   "cell_type": "markdown",
   "id": "af74cddb-2d5e-4813-a626-597fdda1de41",
   "metadata": {},
   "source": [
    "- 25% value=34015.479999999996\n",
    "\n",
    "- 25percentage of data has less than 34015.47\n",
    "\n",
    "- total data = 25480\n",
    "\n",
    "- 25%(25480) members has wages less than 34015 \n",
    "\n",
    "- 25%(25480)=6370 members has wages less than 34015"
   ]
  },
  {
   "cell_type": "code",
   "execution_count": 18,
   "id": "39296001-7edc-4cf4-bd47-e7148064ac7c",
   "metadata": {},
   "outputs": [
    {
     "data": {
      "text/plain": [
       "(6370.0, 12740.0, 19110.0)"
      ]
     },
     "execution_count": 18,
     "metadata": {},
     "output_type": "execute_result"
    }
   ],
   "source": [
    "25*25480/100,50*25480/100,75*25480/100"
   ]
  },
  {
   "cell_type": "markdown",
   "id": "d5c101e8-6900-4328-a4e9-99bfc4efcff9",
   "metadata": {},
   "source": [
    "- now we need to prove this using python code\n",
    "\n",
    "- we want to prove that there are 6370 members has salary less than 345015.47"
   ]
  },
  {
   "cell_type": "code",
   "execution_count": 19,
   "id": "a1a05eee-4dd7-44e5-aa84-a9944f1fd758",
   "metadata": {},
   "outputs": [
    {
     "data": {
      "text/plain": [
       "6370"
      ]
     },
     "execution_count": 19,
     "metadata": {},
     "output_type": "execute_result"
    }
   ],
   "source": [
    "wage_data=visa_df['prevailing_wage']\n",
    "wage_25p=np.percentile(wage_data,25)\n",
    "con=wage_data<wage_25p\n",
    "len(wage_data[con])"
   ]
  },
  {
   "cell_type": "code",
   "execution_count": 20,
   "id": "631778cb-1291-4414-9d33-abe70d2c2c61",
   "metadata": {},
   "outputs": [
    {
     "data": {
      "text/plain": [
       "12740"
      ]
     },
     "execution_count": 20,
     "metadata": {},
     "output_type": "execute_result"
    }
   ],
   "source": [
    "wage_data=visa_df['prevailing_wage']\n",
    "wage_50p=np.percentile(wage_data,50)\n",
    "con=wage_data<wage_50p\n",
    "len(wage_data[con])"
   ]
  },
  {
   "cell_type": "code",
   "execution_count": 21,
   "id": "8eecede7-1b3f-4eec-a069-2d0afb0d7a88",
   "metadata": {},
   "outputs": [
    {
     "data": {
      "text/plain": [
       "19110"
      ]
     },
     "execution_count": 21,
     "metadata": {},
     "output_type": "execute_result"
    }
   ],
   "source": [
    "wage_data=visa_df['prevailing_wage']\n",
    "wage_75p=np.percentile(wage_data,75)\n",
    "con=wage_data<wage_75p\n",
    "len(wage_data[con])"
   ]
  },
  {
   "cell_type": "code",
   "execution_count": 16,
   "id": "6470f9e6-ae5e-40a2-877a-3fbfd6309260",
   "metadata": {},
   "outputs": [
    {
     "data": {
      "text/html": [
       "<div>\n",
       "<style scoped>\n",
       "    .dataframe tbody tr th:only-of-type {\n",
       "        vertical-align: middle;\n",
       "    }\n",
       "\n",
       "    .dataframe tbody tr th {\n",
       "        vertical-align: top;\n",
       "    }\n",
       "\n",
       "    .dataframe thead th {\n",
       "        text-align: right;\n",
       "    }\n",
       "</style>\n",
       "<table border=\"1\" class=\"dataframe\">\n",
       "  <thead>\n",
       "    <tr style=\"text-align: right;\">\n",
       "      <th></th>\n",
       "      <th>prevailing_wage</th>\n",
       "    </tr>\n",
       "  </thead>\n",
       "  <tbody>\n",
       "    <tr>\n",
       "      <th>count</th>\n",
       "      <td>25480.0000</td>\n",
       "    </tr>\n",
       "    <tr>\n",
       "      <th>Min</th>\n",
       "      <td>2.1400</td>\n",
       "    </tr>\n",
       "    <tr>\n",
       "      <th>Max</th>\n",
       "      <td>319210.2700</td>\n",
       "    </tr>\n",
       "    <tr>\n",
       "      <th>Std</th>\n",
       "      <td>52815.9400</td>\n",
       "    </tr>\n",
       "    <tr>\n",
       "      <th>Mean</th>\n",
       "      <td>74455.8100</td>\n",
       "    </tr>\n",
       "    <tr>\n",
       "      <th>Median</th>\n",
       "      <td>70308.2100</td>\n",
       "    </tr>\n",
       "    <tr>\n",
       "      <th>25%</th>\n",
       "      <td>34015.4800</td>\n",
       "    </tr>\n",
       "    <tr>\n",
       "      <th>50%</th>\n",
       "      <td>70308.2100</td>\n",
       "    </tr>\n",
       "    <tr>\n",
       "      <th>75%</th>\n",
       "      <td>107735.5125</td>\n",
       "    </tr>\n",
       "  </tbody>\n",
       "</table>\n",
       "</div>"
      ],
      "text/plain": [
       "        prevailing_wage\n",
       "count        25480.0000\n",
       "Min              2.1400\n",
       "Max         319210.2700\n",
       "Std          52815.9400\n",
       "Mean         74455.8100\n",
       "Median       70308.2100\n",
       "25%          34015.4800\n",
       "50%          70308.2100\n",
       "75%         107735.5125"
      ]
     },
     "execution_count": 16,
     "metadata": {},
     "output_type": "execute_result"
    }
   ],
   "source": [
    "wage_data=visa_df['prevailing_wage']\n",
    "wage_count=len(wage_data)\n",
    "wage_mean=round(wage_data.mean(),2)\n",
    "wage_median=round(wage_data.median(),2)\n",
    "wage_std=round(wage_data.std(),2)\n",
    "wage_min=round(wage_data.min(),2)\n",
    "wage_max=round(wage_data.max(),2)\n",
    "wage_25p=np.percentile(wage_data,25)\n",
    "wage_50p=np.percentile(wage_data,50)\n",
    "wage_75p=np.percentile(wage_data,75)\n",
    "\n",
    "\n",
    "idx=['count','Min','Max','Std','Mean','Median','25%','50%','75%']\n",
    "data=[wage_count,wage_min,wage_max,wage_std,wage_mean,wage_median,wage_25p,wage_50p,wage_75p]\n",
    "cols=['prevailing_wage']\n",
    "df=pd.DataFrame(data,columns=cols,index=idx)\n",
    "df"
   ]
  },
  {
   "cell_type": "code",
   "execution_count": 25,
   "id": "7d0b0864-37ee-4e97-86e9-fddaaf520d6b",
   "metadata": {},
   "outputs": [
    {
     "data": {
      "text/html": [
       "<div>\n",
       "<style scoped>\n",
       "    .dataframe tbody tr th:only-of-type {\n",
       "        vertical-align: middle;\n",
       "    }\n",
       "\n",
       "    .dataframe tbody tr th {\n",
       "        vertical-align: top;\n",
       "    }\n",
       "\n",
       "    .dataframe thead th {\n",
       "        text-align: right;\n",
       "    }\n",
       "</style>\n",
       "<table border=\"1\" class=\"dataframe\">\n",
       "  <thead>\n",
       "    <tr style=\"text-align: right;\">\n",
       "      <th></th>\n",
       "      <th>count</th>\n",
       "      <th>Min</th>\n",
       "      <th>Max</th>\n",
       "      <th>Std</th>\n",
       "      <th>Mean</th>\n",
       "      <th>Median</th>\n",
       "      <th>25%</th>\n",
       "      <th>50%</th>\n",
       "      <th>75%</th>\n",
       "    </tr>\n",
       "  </thead>\n",
       "  <tbody>\n",
       "    <tr>\n",
       "      <th>no_of_employees</th>\n",
       "      <td>25480</td>\n",
       "      <td>-26.00</td>\n",
       "      <td>602069.00</td>\n",
       "      <td>22877.93</td>\n",
       "      <td>5667.04</td>\n",
       "      <td>2109.00</td>\n",
       "      <td>1022.00</td>\n",
       "      <td>2109.00</td>\n",
       "      <td>3504.0000</td>\n",
       "    </tr>\n",
       "    <tr>\n",
       "      <th>yr_of_estab</th>\n",
       "      <td>25480</td>\n",
       "      <td>1800.00</td>\n",
       "      <td>2016.00</td>\n",
       "      <td>42.37</td>\n",
       "      <td>1979.41</td>\n",
       "      <td>1997.00</td>\n",
       "      <td>1976.00</td>\n",
       "      <td>1997.00</td>\n",
       "      <td>2005.0000</td>\n",
       "    </tr>\n",
       "    <tr>\n",
       "      <th>prevailing_wage</th>\n",
       "      <td>25480</td>\n",
       "      <td>2.14</td>\n",
       "      <td>319210.27</td>\n",
       "      <td>52815.94</td>\n",
       "      <td>74455.81</td>\n",
       "      <td>70308.21</td>\n",
       "      <td>34015.48</td>\n",
       "      <td>70308.21</td>\n",
       "      <td>107735.5125</td>\n",
       "    </tr>\n",
       "  </tbody>\n",
       "</table>\n",
       "</div>"
      ],
      "text/plain": [
       "                 count      Min        Max       Std      Mean    Median  \\\n",
       "no_of_employees  25480   -26.00  602069.00  22877.93   5667.04   2109.00   \n",
       "yr_of_estab      25480  1800.00    2016.00     42.37   1979.41   1997.00   \n",
       "prevailing_wage  25480     2.14  319210.27  52815.94  74455.81  70308.21   \n",
       "\n",
       "                      25%       50%          75%  \n",
       "no_of_employees   1022.00   2109.00    3504.0000  \n",
       "yr_of_estab       1976.00   1997.00    2005.0000  \n",
       "prevailing_wage  34015.48  70308.21  107735.5125  "
      ]
     },
     "execution_count": 25,
     "metadata": {},
     "output_type": "execute_result"
    }
   ],
   "source": [
    "data=[]\n",
    "for i in num:\n",
    "    col_data=visa_df[i]\n",
    "    col_count=len(col_data)\n",
    "    col_mean=round(col_data.mean(),2)\n",
    "    col_median=round(col_data.median(),2)\n",
    "    col_std=round(col_data.std(),2)\n",
    "    col_min=round(col_data.min(),2)\n",
    "    col_max=round(col_data.max(),2)\n",
    "    col_25p=np.percentile(col_data,25)\n",
    "    col_50p=np.percentile(col_data,50)\n",
    "    col_75p=np.percentile(col_data,75)\n",
    "    \n",
    "    \n",
    "    idx=['count','Min','Max','Std','Mean','Median','25%','50%','75%']\n",
    "    data.append([col_count,col_min,col_max,col_std,\n",
    "                 col_mean,col_median,\n",
    "                 col_25p,col_50p,col_75p])\n",
    "    \n",
    "pd.DataFrame(data,index=num,columns=idx)\n",
    "    \n"
   ]
  },
  {
   "cell_type": "code",
   "execution_count": 26,
   "id": "c1e6930e-4f7b-41a9-b16a-32e1ad25ed42",
   "metadata": {},
   "outputs": [
    {
     "data": {
      "text/html": [
       "<div>\n",
       "<style scoped>\n",
       "    .dataframe tbody tr th:only-of-type {\n",
       "        vertical-align: middle;\n",
       "    }\n",
       "\n",
       "    .dataframe tbody tr th {\n",
       "        vertical-align: top;\n",
       "    }\n",
       "\n",
       "    .dataframe thead th {\n",
       "        text-align: right;\n",
       "    }\n",
       "</style>\n",
       "<table border=\"1\" class=\"dataframe\">\n",
       "  <thead>\n",
       "    <tr style=\"text-align: right;\">\n",
       "      <th></th>\n",
       "      <th>no_of_employees</th>\n",
       "      <th>yr_of_estab</th>\n",
       "      <th>prevailing_wage</th>\n",
       "    </tr>\n",
       "  </thead>\n",
       "  <tbody>\n",
       "    <tr>\n",
       "      <th>count</th>\n",
       "      <td>25480.00</td>\n",
       "      <td>25480.00</td>\n",
       "      <td>25480.0000</td>\n",
       "    </tr>\n",
       "    <tr>\n",
       "      <th>Min</th>\n",
       "      <td>-26.00</td>\n",
       "      <td>1800.00</td>\n",
       "      <td>2.1400</td>\n",
       "    </tr>\n",
       "    <tr>\n",
       "      <th>Max</th>\n",
       "      <td>602069.00</td>\n",
       "      <td>2016.00</td>\n",
       "      <td>319210.2700</td>\n",
       "    </tr>\n",
       "    <tr>\n",
       "      <th>Std</th>\n",
       "      <td>22877.93</td>\n",
       "      <td>42.37</td>\n",
       "      <td>52815.9400</td>\n",
       "    </tr>\n",
       "    <tr>\n",
       "      <th>Mean</th>\n",
       "      <td>5667.04</td>\n",
       "      <td>1979.41</td>\n",
       "      <td>74455.8100</td>\n",
       "    </tr>\n",
       "    <tr>\n",
       "      <th>Median</th>\n",
       "      <td>2109.00</td>\n",
       "      <td>1997.00</td>\n",
       "      <td>70308.2100</td>\n",
       "    </tr>\n",
       "    <tr>\n",
       "      <th>25%</th>\n",
       "      <td>1022.00</td>\n",
       "      <td>1976.00</td>\n",
       "      <td>34015.4800</td>\n",
       "    </tr>\n",
       "    <tr>\n",
       "      <th>50%</th>\n",
       "      <td>2109.00</td>\n",
       "      <td>1997.00</td>\n",
       "      <td>70308.2100</td>\n",
       "    </tr>\n",
       "    <tr>\n",
       "      <th>75%</th>\n",
       "      <td>3504.00</td>\n",
       "      <td>2005.00</td>\n",
       "      <td>107735.5125</td>\n",
       "    </tr>\n",
       "  </tbody>\n",
       "</table>\n",
       "</div>"
      ],
      "text/plain": [
       "        no_of_employees  yr_of_estab  prevailing_wage\n",
       "count          25480.00     25480.00       25480.0000\n",
       "Min              -26.00      1800.00           2.1400\n",
       "Max           602069.00      2016.00      319210.2700\n",
       "Std            22877.93        42.37       52815.9400\n",
       "Mean            5667.04      1979.41       74455.8100\n",
       "Median          2109.00      1997.00       70308.2100\n",
       "25%             1022.00      1976.00       34015.4800\n",
       "50%             2109.00      1997.00       70308.2100\n",
       "75%             3504.00      2005.00      107735.5125"
      ]
     },
     "execution_count": 26,
     "metadata": {},
     "output_type": "execute_result"
    }
   ],
   "source": [
    "data=[]\n",
    "for i in num:\n",
    "    col_data=visa_df[i]\n",
    "    col_count=len(col_data)\n",
    "    col_mean=round(col_data.mean(),2)\n",
    "    col_median=round(col_data.median(),2)\n",
    "    col_std=round(col_data.std(),2)\n",
    "    col_min=round(col_data.min(),2)\n",
    "    col_max=round(col_data.max(),2)\n",
    "    col_25p=np.percentile(col_data,25)\n",
    "    col_50p=np.percentile(col_data,50)\n",
    "    col_75p=np.percentile(col_data,75)\n",
    "    \n",
    "    \n",
    "    idx=['count','Min','Max','Std','Mean','Median','25%','50%','75%']\n",
    "    data.append([col_count,col_min,col_max,col_std,\n",
    "                 col_mean,col_median,\n",
    "                 col_25p,col_50p,col_75p])\n",
    "    \n",
    "pd.DataFrame(data,index=num,columns=idx).T"
   ]
  },
  {
   "cell_type": "code",
   "execution_count": 29,
   "id": "d4790c4f-bbdc-4641-856c-ec4ae7bd6d64",
   "metadata": {},
   "outputs": [
    {
     "data": {
      "text/html": [
       "<div>\n",
       "<style scoped>\n",
       "    .dataframe tbody tr th:only-of-type {\n",
       "        vertical-align: middle;\n",
       "    }\n",
       "\n",
       "    .dataframe tbody tr th {\n",
       "        vertical-align: top;\n",
       "    }\n",
       "\n",
       "    .dataframe thead th {\n",
       "        text-align: right;\n",
       "    }\n",
       "</style>\n",
       "<table border=\"1\" class=\"dataframe\">\n",
       "  <thead>\n",
       "    <tr style=\"text-align: right;\">\n",
       "      <th></th>\n",
       "      <th>no_of_employees</th>\n",
       "      <th>yr_of_estab</th>\n",
       "      <th>prevailing_wage</th>\n",
       "    </tr>\n",
       "  </thead>\n",
       "  <tbody>\n",
       "    <tr>\n",
       "      <th>count</th>\n",
       "      <td>25480.000000</td>\n",
       "      <td>25480.000000</td>\n",
       "      <td>25480.000000</td>\n",
       "    </tr>\n",
       "    <tr>\n",
       "      <th>mean</th>\n",
       "      <td>5667.043210</td>\n",
       "      <td>1979.409929</td>\n",
       "      <td>74455.814592</td>\n",
       "    </tr>\n",
       "    <tr>\n",
       "      <th>std</th>\n",
       "      <td>22877.928848</td>\n",
       "      <td>42.366929</td>\n",
       "      <td>52815.942327</td>\n",
       "    </tr>\n",
       "    <tr>\n",
       "      <th>min</th>\n",
       "      <td>-26.000000</td>\n",
       "      <td>1800.000000</td>\n",
       "      <td>2.136700</td>\n",
       "    </tr>\n",
       "    <tr>\n",
       "      <th>25%</th>\n",
       "      <td>1022.000000</td>\n",
       "      <td>1976.000000</td>\n",
       "      <td>34015.480000</td>\n",
       "    </tr>\n",
       "    <tr>\n",
       "      <th>50%</th>\n",
       "      <td>2109.000000</td>\n",
       "      <td>1997.000000</td>\n",
       "      <td>70308.210000</td>\n",
       "    </tr>\n",
       "    <tr>\n",
       "      <th>75%</th>\n",
       "      <td>3504.000000</td>\n",
       "      <td>2005.000000</td>\n",
       "      <td>107735.512500</td>\n",
       "    </tr>\n",
       "    <tr>\n",
       "      <th>max</th>\n",
       "      <td>602069.000000</td>\n",
       "      <td>2016.000000</td>\n",
       "      <td>319210.270000</td>\n",
       "    </tr>\n",
       "  </tbody>\n",
       "</table>\n",
       "</div>"
      ],
      "text/plain": [
       "       no_of_employees   yr_of_estab  prevailing_wage\n",
       "count     25480.000000  25480.000000     25480.000000\n",
       "mean       5667.043210   1979.409929     74455.814592\n",
       "std       22877.928848     42.366929     52815.942327\n",
       "min         -26.000000   1800.000000         2.136700\n",
       "25%        1022.000000   1976.000000     34015.480000\n",
       "50%        2109.000000   1997.000000     70308.210000\n",
       "75%        3504.000000   2005.000000    107735.512500\n",
       "max      602069.000000   2016.000000    319210.270000"
      ]
     },
     "execution_count": 29,
     "metadata": {},
     "output_type": "execute_result"
    }
   ],
   "source": [
    "visa_df.describe()"
   ]
  },
  {
   "cell_type": "code",
   "execution_count": 1,
   "id": "8524012f-da09-4c18-bc9f-013f6bebfa3d",
   "metadata": {},
   "outputs": [],
   "source": [
    "import pandas as pd\n",
    "import numpy as np\n",
    "import matplotlib.pyplot as plt\n",
    "import seaborn as sns\n",
    "\n",
    "visa_df=pd.read_csv('visadataset.csv')\n",
    "cat=visa_df.select_dtypes(include='object').columns\n",
    "num=visa_df.select_dtypes(exclude='object').columns"
   ]
  },
  {
   "cell_type": "code",
   "execution_count": 2,
   "id": "e6fb4807-c130-4551-877e-f2ec58012a25",
   "metadata": {},
   "outputs": [
    {
     "data": {
      "text/html": [
       "<div>\n",
       "<style scoped>\n",
       "    .dataframe tbody tr th:only-of-type {\n",
       "        vertical-align: middle;\n",
       "    }\n",
       "\n",
       "    .dataframe tbody tr th {\n",
       "        vertical-align: top;\n",
       "    }\n",
       "\n",
       "    .dataframe thead th {\n",
       "        text-align: right;\n",
       "    }\n",
       "</style>\n",
       "<table border=\"1\" class=\"dataframe\">\n",
       "  <thead>\n",
       "    <tr style=\"text-align: right;\">\n",
       "      <th></th>\n",
       "      <th>no_of_employees</th>\n",
       "      <th>yr_of_estab</th>\n",
       "      <th>prevailing_wage</th>\n",
       "    </tr>\n",
       "  </thead>\n",
       "  <tbody>\n",
       "    <tr>\n",
       "      <th>count</th>\n",
       "      <td>25480.000000</td>\n",
       "      <td>25480.000000</td>\n",
       "      <td>25480.000000</td>\n",
       "    </tr>\n",
       "    <tr>\n",
       "      <th>mean</th>\n",
       "      <td>5667.043210</td>\n",
       "      <td>1979.409929</td>\n",
       "      <td>74455.814592</td>\n",
       "    </tr>\n",
       "    <tr>\n",
       "      <th>std</th>\n",
       "      <td>22877.928848</td>\n",
       "      <td>42.366929</td>\n",
       "      <td>52815.942327</td>\n",
       "    </tr>\n",
       "    <tr>\n",
       "      <th>min</th>\n",
       "      <td>-26.000000</td>\n",
       "      <td>1800.000000</td>\n",
       "      <td>2.136700</td>\n",
       "    </tr>\n",
       "    <tr>\n",
       "      <th>25%</th>\n",
       "      <td>1022.000000</td>\n",
       "      <td>1976.000000</td>\n",
       "      <td>34015.480000</td>\n",
       "    </tr>\n",
       "    <tr>\n",
       "      <th>50%</th>\n",
       "      <td>2109.000000</td>\n",
       "      <td>1997.000000</td>\n",
       "      <td>70308.210000</td>\n",
       "    </tr>\n",
       "    <tr>\n",
       "      <th>75%</th>\n",
       "      <td>3504.000000</td>\n",
       "      <td>2005.000000</td>\n",
       "      <td>107735.512500</td>\n",
       "    </tr>\n",
       "    <tr>\n",
       "      <th>max</th>\n",
       "      <td>602069.000000</td>\n",
       "      <td>2016.000000</td>\n",
       "      <td>319210.270000</td>\n",
       "    </tr>\n",
       "  </tbody>\n",
       "</table>\n",
       "</div>"
      ],
      "text/plain": [
       "       no_of_employees   yr_of_estab  prevailing_wage\n",
       "count     25480.000000  25480.000000     25480.000000\n",
       "mean       5667.043210   1979.409929     74455.814592\n",
       "std       22877.928848     42.366929     52815.942327\n",
       "min         -26.000000   1800.000000         2.136700\n",
       "25%        1022.000000   1976.000000     34015.480000\n",
       "50%        2109.000000   1997.000000     70308.210000\n",
       "75%        3504.000000   2005.000000    107735.512500\n",
       "max      602069.000000   2016.000000    319210.270000"
      ]
     },
     "execution_count": 2,
     "metadata": {},
     "output_type": "execute_result"
    }
   ],
   "source": [
    "visa_df.describe()"
   ]
  },
  {
   "cell_type": "markdown",
   "id": "9ef53cb6-ac2f-4863-939e-cfe83b2a0158",
   "metadata": {},
   "source": [
    "**Empirical Rule**"
   ]
  },
  {
   "cell_type": "markdown",
   "id": "eb85fef0-c5f6-4c6a-b1c9-3da873721996",
   "metadata": {},
   "source": [
    "<img src=\"https://statisticsbyjim.com/wp-content/uploads/2021/08/empirical_rule_graph2.png\" alt=\"Empirical Rule: Definition &amp; Formula - Statistics By Jim\" class=\" nofocus\" tabindex=\"0\" aria-label=\"Empirical Rule: Definition &amp; Formula - Statistics By Jim\" role=\"button\">"
   ]
  },
  {
   "cell_type": "code",
   "execution_count": 3,
   "id": "b1e2e9f6-b5ac-4058-b9ca-1de029572028",
   "metadata": {},
   "outputs": [],
   "source": [
    "# mu-1*sigma(lower bound) to mu+1*sigma(upper bound) = 68% of total data\n",
    "# mu-2*sigma(lower bound) to mu+2*sigma(upper bound) = 95% of total data\n",
    "# mu-3*sigma(lower bound) to mu+3*sigma(upper bound) = 99.7% of total data"
   ]
  },
  {
   "cell_type": "code",
   "execution_count": 4,
   "id": "d2b76c60-69ce-45e4-8261-347c1008383d",
   "metadata": {},
   "outputs": [],
   "source": [
    "# mu-1*sigma(lower bound) to mu+1*sigma(upper bound) = 68% of total data"
   ]
  },
  {
   "cell_type": "markdown",
   "id": "df2e3d2d-5393-498d-8146-a2eb87301290",
   "metadata": {},
   "source": [
    "**LB**"
   ]
  },
  {
   "cell_type": "code",
   "execution_count": 5,
   "id": "705311f8-131a-4167-b0b0-d8b0368c90ff",
   "metadata": {},
   "outputs": [
    {
     "data": {
      "text/plain": [
       "21639.872265218262"
      ]
     },
     "execution_count": 5,
     "metadata": {},
     "output_type": "execute_result"
    }
   ],
   "source": [
    "mean=visa_df['prevailing_wage'].mean()\n",
    "std=visa_df['prevailing_wage'].std()\n",
    "lb=mean-1*std\n",
    "lb"
   ]
  },
  {
   "cell_type": "markdown",
   "id": "fca25f3d-294b-437d-aed9-d00b6bd02c6d",
   "metadata": {},
   "source": [
    "**UB**"
   ]
  },
  {
   "cell_type": "code",
   "execution_count": 6,
   "id": "ae5ca5e7-3078-4210-b254-817d60d2adea",
   "metadata": {},
   "outputs": [
    {
     "data": {
      "text/plain": [
       "127271.7569189654"
      ]
     },
     "execution_count": 6,
     "metadata": {},
     "output_type": "execute_result"
    }
   ],
   "source": [
    "mean=visa_df['prevailing_wage'].mean()\n",
    "std=visa_df['prevailing_wage'].std()\n",
    "ub=mean+1*std\n",
    "ub"
   ]
  },
  {
   "cell_type": "code",
   "execution_count": 7,
   "id": "14cce79d-acf6-4b34-ad84-dcaabb4b5fd1",
   "metadata": {},
   "outputs": [
    {
     "data": {
      "text/plain": [
       "(21639.872265218262, 127271.7569189654)"
      ]
     },
     "execution_count": 7,
     "metadata": {},
     "output_type": "execute_result"
    }
   ],
   "source": [
    "lb,ub"
   ]
  },
  {
   "cell_type": "code",
   "execution_count": 8,
   "id": "2a52f68b-4ffb-42ec-a023-574e69e435e9",
   "metadata": {},
   "outputs": [
    {
     "data": {
      "text/plain": [
       "(17171, 17326.4)"
      ]
     },
     "execution_count": 8,
     "metadata": {},
     "output_type": "execute_result"
    }
   ],
   "source": [
    "con1=visa_df['prevailing_wage']>lb\n",
    "con2=visa_df['prevailing_wage']<ub\n",
    "con3=con1&con2\n",
    "len(visa_df[con3]), 68*25480/100"
   ]
  },
  {
   "cell_type": "code",
   "execution_count": 9,
   "id": "bec101d2-615c-40df-9e3f-4d1d31d5f0dc",
   "metadata": {},
   "outputs": [
    {
     "data": {
      "text/plain": [
       "(24582, 24206.0)"
      ]
     },
     "execution_count": 9,
     "metadata": {},
     "output_type": "execute_result"
    }
   ],
   "source": [
    "mean=visa_df['prevailing_wage'].mean()\n",
    "std=visa_df['prevailing_wage'].std()\n",
    "lb=mean-2*std\n",
    "lb\n",
    "\n",
    "mean=visa_df['prevailing_wage'].mean()\n",
    "std=visa_df['prevailing_wage'].std()\n",
    "ub=mean+2*std\n",
    "ub\n",
    "\n",
    "con1=visa_df['prevailing_wage']>lb\n",
    "con2=visa_df['prevailing_wage']<ub\n",
    "con3=con1&con2\n",
    "len(visa_df[con3]), 95*25480/100"
   ]
  },
  {
   "cell_type": "code",
   "execution_count": 10,
   "id": "8804dcea-f3bf-453a-8294-cae3b0993af3",
   "metadata": {},
   "outputs": [
    {
     "data": {
      "text/plain": [
       "(25186, 25403.56)"
      ]
     },
     "execution_count": 10,
     "metadata": {},
     "output_type": "execute_result"
    }
   ],
   "source": [
    "mean=visa_df['prevailing_wage'].mean()\n",
    "std=visa_df['prevailing_wage'].std()\n",
    "lb=mean-3*std\n",
    "lb\n",
    "\n",
    "mean=visa_df['prevailing_wage'].mean()\n",
    "std=visa_df['prevailing_wage'].std()\n",
    "ub=mean+3*std\n",
    "ub\n",
    "\n",
    "con1=visa_df['prevailing_wage']>lb\n",
    "con2=visa_df['prevailing_wage']<ub\n",
    "con3=con1&con2\n",
    "len(visa_df[con3]), 99.7*25480/100"
   ]
  },
  {
   "cell_type": "markdown",
   "id": "68f04217-130c-44ca-98ce-89df7ac95ea3",
   "metadata": {},
   "source": [
    "- from above we understand the data does not follows normal distribution\n",
    "\n",
    "- will get more clearly by plotting histogram"
   ]
  },
  {
   "cell_type": "markdown",
   "id": "7be2878b-a19b-4e9d-a8ff-4e8dd3ce9a31",
   "metadata": {},
   "source": [
    "**Histogram**\n",
    "\n",
    "- class interval vs interval frequency\n",
    "\n",
    "- it is available in patplotlib package\n",
    "\n",
    "- **plt.hist**"
   ]
  },
  {
   "cell_type": "code",
   "execution_count": 11,
   "id": "d95e62a8-dcb5-4d7f-ab61-6f482c4c0b39",
   "metadata": {},
   "outputs": [
    {
     "data": {
      "image/png": "[encoded data removed]",
      "text/plain": [
       "<Figure size 640x480 with 1 Axes>"
      ]
     },
     "metadata": {},
     "output_type": "display_data"
    }
   ],
   "source": [
    "count,interval,n=plt.hist(visa_df['prevailing_wage'],bins=40)"
   ]
  },
  {
   "cell_type": "markdown",
   "id": "dcb8bafa-28a9-42ee-aba2-c0a35f3216bb",
   "metadata": {},
   "source": [
    "**observations**"
   ]
  },
  {
   "cell_type": "markdown",
   "id": "793a2087-9b0a-4d8a-a6bc-82ec34d9cc2f",
   "metadata": {},
   "source": [
    "- histogram will give 3 outputs in a tuple\n",
    "\n",
    "- count array : having each interval count\n",
    "\n",
    "- interval array : having intervals\n",
    "\n",
    "- n: number of intervals"
   ]
  },
  {
   "cell_type": "code",
   "execution_count": 12,
   "id": "d238a45e-7dc1-40e4-b6df-ec9ba1332167",
   "metadata": {},
   "outputs": [
    {
     "data": {
      "text/plain": [
       "array([2992.,  871., 1005., 1170., 1242., 1434., 1385., 1443., 1444.,\n",
       "       1445., 1457., 1335., 1268., 1217., 1088.,  978.,  807.,  645.,\n",
       "        509.,  373.,  264.,  144.,  105.,  111.,  107.,   99.,   88.,\n",
       "         79.,   65.,   64.,   58.,   53.,   33.,   33.,   29.,   19.,\n",
       "          7.,    3.,    6.,    5.])"
      ]
     },
     "execution_count": 12,
     "metadata": {},
     "output_type": "execute_result"
    }
   ],
   "source": [
    "count"
   ]
  },
  {
   "cell_type": "code",
   "execution_count": 13,
   "id": "4e57724d-77c0-4cc1-a5e0-3bf7d2379562",
   "metadata": {},
   "outputs": [
    {
     "data": {
      "text/plain": [
       "array([2.13670000e+00, 7.98234003e+03, 1.59625434e+04, 2.39427467e+04,\n",
       "       3.19229500e+04, 3.99031534e+04, 4.78833567e+04, 5.58635600e+04,\n",
       "       6.38437634e+04, 7.18239667e+04, 7.98041700e+04, 8.77843734e+04,\n",
       "       9.57645767e+04, 1.03744780e+05, 1.11724983e+05, 1.19705187e+05,\n",
       "       1.27685390e+05, 1.35665593e+05, 1.43645797e+05, 1.51626000e+05,\n",
       "       1.59606203e+05, 1.67586407e+05, 1.75566610e+05, 1.83546813e+05,\n",
       "       1.91527017e+05, 1.99507220e+05, 2.07487423e+05, 2.15467627e+05,\n",
       "       2.23447830e+05, 2.31428033e+05, 2.39408237e+05, 2.47388440e+05,\n",
       "       2.55368643e+05, 2.63348847e+05, 2.71329050e+05, 2.79309253e+05,\n",
       "       2.87289457e+05, 2.95269660e+05, 3.03249863e+05, 3.11230067e+05,\n",
       "       3.19210270e+05])"
      ]
     },
     "execution_count": 13,
     "metadata": {},
     "output_type": "execute_result"
    }
   ],
   "source": [
    "interval"
   ]
  },
  {
   "cell_type": "code",
   "execution_count": 14,
   "id": "42b7dfd9-9e12-4f90-a44d-bab61937bb23",
   "metadata": {},
   "outputs": [
    {
     "name": "stdout",
     "output_type": "stream",
     "text": [
      "we have 2992 observations between 2.1367 and 7982.34003\n"
     ]
    }
   ],
   "source": [
    "lb=2.13670000e+00\n",
    "ub=7.98234003e+03\n",
    "\n",
    "con1=visa_df['prevailing_wage']>=lb\n",
    "con2=visa_df['prevailing_wage']<=ub\n",
    "con3=con1&con2\n",
    "c=len(visa_df[con3])\n",
    "print(f'we have {c} observations between {lb} and {ub}')"
   ]
  },
  {
   "cell_type": "markdown",
   "id": "0925118e-ca70-47b6-980c-61092a428cd8",
   "metadata": {},
   "source": [
    "**Boxplot**"
   ]
  },
  {
   "cell_type": "markdown",
   "id": "efc57f89-ddc3-412c-9ab2-85add5bf6cf5",
   "metadata": {},
   "source": [
    "- Boxplot is used to find the outliers\n",
    "\n",
    "- Q3+1.5*(Q3-Q1)\n",
    "\n",
    "- Q1-1.5*(Q3-Q1)"
   ]
  },
  {
   "cell_type": "code",
   "execution_count": 5,
   "id": "c279d4e1-c3a0-459b-a3a7-f7624ac22905",
   "metadata": {},
   "outputs": [
    {
     "data": {
      "text/html": [
       "<div>\n",
       "<style scoped>\n",
       "    .dataframe tbody tr th:only-of-type {\n",
       "        vertical-align: middle;\n",
       "    }\n",
       "\n",
       "    .dataframe tbody tr th {\n",
       "        vertical-align: top;\n",
       "    }\n",
       "\n",
       "    .dataframe thead th {\n",
       "        text-align: right;\n",
       "    }\n",
       "</style>\n",
       "<table border=\"1\" class=\"dataframe\">\n",
       "  <thead>\n",
       "    <tr style=\"text-align: right;\">\n",
       "      <th></th>\n",
       "      <th>case_id</th>\n",
       "      <th>continent</th>\n",
       "      <th>education_of_employee</th>\n",
       "      <th>has_job_experience</th>\n",
       "      <th>requires_job_training</th>\n",
       "      <th>no_of_employees</th>\n",
       "      <th>yr_of_estab</th>\n",
       "      <th>region_of_employment</th>\n",
       "      <th>prevailing_wage</th>\n",
       "      <th>unit_of_wage</th>\n",
       "      <th>full_time_position</th>\n",
       "      <th>case_status</th>\n",
       "    </tr>\n",
       "  </thead>\n",
       "  <tbody>\n",
       "    <tr>\n",
       "      <th>14</th>\n",
       "      <td>EZYV15</td>\n",
       "      <td>Asia</td>\n",
       "      <td>Master's</td>\n",
       "      <td>Y</td>\n",
       "      <td>Y</td>\n",
       "      <td>15756</td>\n",
       "      <td>2006</td>\n",
       "      <td>South</td>\n",
       "      <td>220081.73</td>\n",
       "      <td>Year</td>\n",
       "      <td>Y</td>\n",
       "      <td>Certified</td>\n",
       "    </tr>\n",
       "    <tr>\n",
       "      <th>34</th>\n",
       "      <td>EZYV35</td>\n",
       "      <td>Asia</td>\n",
       "      <td>Master's</td>\n",
       "      <td>N</td>\n",
       "      <td>N</td>\n",
       "      <td>1809</td>\n",
       "      <td>2010</td>\n",
       "      <td>South</td>\n",
       "      <td>225569.73</td>\n",
       "      <td>Year</td>\n",
       "      <td>N</td>\n",
       "      <td>Certified</td>\n",
       "    </tr>\n",
       "    <tr>\n",
       "      <th>130</th>\n",
       "      <td>EZYV131</td>\n",
       "      <td>South America</td>\n",
       "      <td>High School</td>\n",
       "      <td>N</td>\n",
       "      <td>N</td>\n",
       "      <td>2554</td>\n",
       "      <td>2005</td>\n",
       "      <td>Midwest</td>\n",
       "      <td>247393.01</td>\n",
       "      <td>Year</td>\n",
       "      <td>Y</td>\n",
       "      <td>Certified</td>\n",
       "    </tr>\n",
       "    <tr>\n",
       "      <th>216</th>\n",
       "      <td>EZYV217</td>\n",
       "      <td>Asia</td>\n",
       "      <td>Master's</td>\n",
       "      <td>Y</td>\n",
       "      <td>N</td>\n",
       "      <td>1515</td>\n",
       "      <td>2001</td>\n",
       "      <td>Midwest</td>\n",
       "      <td>269321.68</td>\n",
       "      <td>Year</td>\n",
       "      <td>N</td>\n",
       "      <td>Certified</td>\n",
       "    </tr>\n",
       "    <tr>\n",
       "      <th>221</th>\n",
       "      <td>EZYV222</td>\n",
       "      <td>North America</td>\n",
       "      <td>Doctorate</td>\n",
       "      <td>Y</td>\n",
       "      <td>Y</td>\n",
       "      <td>2518</td>\n",
       "      <td>2010</td>\n",
       "      <td>South</td>\n",
       "      <td>219529.62</td>\n",
       "      <td>Year</td>\n",
       "      <td>Y</td>\n",
       "      <td>Certified</td>\n",
       "    </tr>\n",
       "    <tr>\n",
       "      <th>...</th>\n",
       "      <td>...</td>\n",
       "      <td>...</td>\n",
       "      <td>...</td>\n",
       "      <td>...</td>\n",
       "      <td>...</td>\n",
       "      <td>...</td>\n",
       "      <td>...</td>\n",
       "      <td>...</td>\n",
       "      <td>...</td>\n",
       "      <td>...</td>\n",
       "      <td>...</td>\n",
       "      <td>...</td>\n",
       "    </tr>\n",
       "    <tr>\n",
       "      <th>25191</th>\n",
       "      <td>EZYV25192</td>\n",
       "      <td>Asia</td>\n",
       "      <td>Master's</td>\n",
       "      <td>N</td>\n",
       "      <td>N</td>\n",
       "      <td>4983</td>\n",
       "      <td>2005</td>\n",
       "      <td>Midwest</td>\n",
       "      <td>280482.51</td>\n",
       "      <td>Year</td>\n",
       "      <td>Y</td>\n",
       "      <td>Denied</td>\n",
       "    </tr>\n",
       "    <tr>\n",
       "      <th>25195</th>\n",
       "      <td>EZYV25196</td>\n",
       "      <td>North America</td>\n",
       "      <td>Master's</td>\n",
       "      <td>Y</td>\n",
       "      <td>N</td>\n",
       "      <td>47</td>\n",
       "      <td>2001</td>\n",
       "      <td>South</td>\n",
       "      <td>234308.77</td>\n",
       "      <td>Year</td>\n",
       "      <td>N</td>\n",
       "      <td>Certified</td>\n",
       "    </tr>\n",
       "    <tr>\n",
       "      <th>25468</th>\n",
       "      <td>EZYV25469</td>\n",
       "      <td>Asia</td>\n",
       "      <td>Bachelor's</td>\n",
       "      <td>N</td>\n",
       "      <td>N</td>\n",
       "      <td>373</td>\n",
       "      <td>2005</td>\n",
       "      <td>Midwest</td>\n",
       "      <td>272715.74</td>\n",
       "      <td>Year</td>\n",
       "      <td>N</td>\n",
       "      <td>Certified</td>\n",
       "    </tr>\n",
       "    <tr>\n",
       "      <th>25469</th>\n",
       "      <td>EZYV25470</td>\n",
       "      <td>North America</td>\n",
       "      <td>Master's</td>\n",
       "      <td>Y</td>\n",
       "      <td>N</td>\n",
       "      <td>2261</td>\n",
       "      <td>1997</td>\n",
       "      <td>Northeast</td>\n",
       "      <td>273772.47</td>\n",
       "      <td>Year</td>\n",
       "      <td>N</td>\n",
       "      <td>Certified</td>\n",
       "    </tr>\n",
       "    <tr>\n",
       "      <th>25476</th>\n",
       "      <td>EZYV25477</td>\n",
       "      <td>Asia</td>\n",
       "      <td>High School</td>\n",
       "      <td>Y</td>\n",
       "      <td>N</td>\n",
       "      <td>3274</td>\n",
       "      <td>2006</td>\n",
       "      <td>Northeast</td>\n",
       "      <td>279174.79</td>\n",
       "      <td>Year</td>\n",
       "      <td>Y</td>\n",
       "      <td>Certified</td>\n",
       "    </tr>\n",
       "  </tbody>\n",
       "</table>\n",
       "<p>427 rows × 12 columns</p>\n",
       "</div>"
      ],
      "text/plain": [
       "         case_id      continent education_of_employee has_job_experience  \\\n",
       "14        EZYV15           Asia              Master's                  Y   \n",
       "34        EZYV35           Asia              Master's                  N   \n",
       "130      EZYV131  South America           High School                  N   \n",
       "216      EZYV217           Asia              Master's                  Y   \n",
       "221      EZYV222  North America             Doctorate                  Y   \n",
       "...          ...            ...                   ...                ...   \n",
       "25191  EZYV25192           Asia              Master's                  N   \n",
       "25195  EZYV25196  North America              Master's                  Y   \n",
       "25468  EZYV25469           Asia            Bachelor's                  N   \n",
       "25469  EZYV25470  North America              Master's                  Y   \n",
       "25476  EZYV25477           Asia           High School                  Y   \n",
       "\n",
       "      requires_job_training  no_of_employees  yr_of_estab  \\\n",
       "14                        Y            15756         2006   \n",
       "34                        N             1809         2010   \n",
       "130                       N             2554         2005   \n",
       "216                       N             1515         2001   \n",
       "221                       Y             2518         2010   \n",
       "...                     ...              ...          ...   \n",
       "25191                     N             4983         2005   \n",
       "25195                     N               47         2001   \n",
       "25468                     N              373         2005   \n",
       "25469                     N             2261         1997   \n",
       "25476                     N             3274         2006   \n",
       "\n",
       "      region_of_employment  prevailing_wage unit_of_wage full_time_position  \\\n",
       "14                   South        220081.73         Year                  Y   \n",
       "34                   South        225569.73         Year                  N   \n",
       "130                Midwest        247393.01         Year                  Y   \n",
       "216                Midwest        269321.68         Year                  N   \n",
       "221                  South        219529.62         Year                  Y   \n",
       "...                    ...              ...          ...                ...   \n",
       "25191              Midwest        280482.51         Year                  Y   \n",
       "25195                South        234308.77         Year                  N   \n",
       "25468              Midwest        272715.74         Year                  N   \n",
       "25469            Northeast        273772.47         Year                  N   \n",
       "25476            Northeast        279174.79         Year                  Y   \n",
       "\n",
       "      case_status  \n",
       "14      Certified  \n",
       "34      Certified  \n",
       "130     Certified  \n",
       "216     Certified  \n",
       "221     Certified  \n",
       "...           ...  \n",
       "25191      Denied  \n",
       "25195   Certified  \n",
       "25468   Certified  \n",
       "25469   Certified  \n",
       "25476   Certified  \n",
       "\n",
       "[427 rows x 12 columns]"
      ]
     },
     "execution_count": 5,
     "metadata": {},
     "output_type": "execute_result"
    }
   ],
   "source": [
    "data=visa_df['prevailing_wage']\n",
    "q1=np.percentile(data,25)\n",
    "q3=np.percentile(data,75)\n",
    "iqr=q3-q1\n",
    "lb=q1-1.5*iqr\n",
    "ub=q3+1.5*iqr\n",
    "con1=data<lb\n",
    "con2=data>ub\n",
    "con3=con1 ^ con2\n",
    "outlier=visa_df[con3]\n",
    "outlier"
   ]
  },
  {
   "cell_type": "code",
   "execution_count": 18,
   "id": "ac197a21-d25f-4717-be0a-a0ed394a470a",
   "metadata": {},
   "outputs": [
    {
     "data": {
      "image/png": "[encoded data removed]",
      "text/plain": [
       "<Figure size 640x480 with 1 Axes>"
      ]
     },
     "metadata": {},
     "output_type": "display_data"
    }
   ],
   "source": [
    "n=plt.hist(outlier['prevailing_wage'])"
   ]
  },
  {
   "cell_type": "code",
   "execution_count": 19,
   "id": "b5fdb4be-42ca-4775-ba97-dbc12d81b8c3",
   "metadata": {},
   "outputs": [
    {
     "data": {
      "text/html": [
       "<div>\n",
       "<style scoped>\n",
       "    .dataframe tbody tr th:only-of-type {\n",
       "        vertical-align: middle;\n",
       "    }\n",
       "\n",
       "    .dataframe tbody tr th {\n",
       "        vertical-align: top;\n",
       "    }\n",
       "\n",
       "    .dataframe thead th {\n",
       "        text-align: right;\n",
       "    }\n",
       "</style>\n",
       "<table border=\"1\" class=\"dataframe\">\n",
       "  <thead>\n",
       "    <tr style=\"text-align: right;\">\n",
       "      <th></th>\n",
       "      <th>case_id</th>\n",
       "      <th>continent</th>\n",
       "      <th>education_of_employee</th>\n",
       "      <th>has_job_experience</th>\n",
       "      <th>requires_job_training</th>\n",
       "      <th>no_of_employees</th>\n",
       "      <th>yr_of_estab</th>\n",
       "      <th>region_of_employment</th>\n",
       "      <th>prevailing_wage</th>\n",
       "      <th>unit_of_wage</th>\n",
       "      <th>full_time_position</th>\n",
       "      <th>case_status</th>\n",
       "    </tr>\n",
       "  </thead>\n",
       "  <tbody>\n",
       "    <tr>\n",
       "      <th>0</th>\n",
       "      <td>EZYV01</td>\n",
       "      <td>Asia</td>\n",
       "      <td>High School</td>\n",
       "      <td>N</td>\n",
       "      <td>N</td>\n",
       "      <td>14513</td>\n",
       "      <td>2007</td>\n",
       "      <td>West</td>\n",
       "      <td>592.2029</td>\n",
       "      <td>Hour</td>\n",
       "      <td>Y</td>\n",
       "      <td>Denied</td>\n",
       "    </tr>\n",
       "    <tr>\n",
       "      <th>1</th>\n",
       "      <td>EZYV02</td>\n",
       "      <td>Asia</td>\n",
       "      <td>Master's</td>\n",
       "      <td>Y</td>\n",
       "      <td>N</td>\n",
       "      <td>2412</td>\n",
       "      <td>2002</td>\n",
       "      <td>Northeast</td>\n",
       "      <td>83425.6500</td>\n",
       "      <td>Year</td>\n",
       "      <td>Y</td>\n",
       "      <td>Certified</td>\n",
       "    </tr>\n",
       "    <tr>\n",
       "      <th>2</th>\n",
       "      <td>EZYV03</td>\n",
       "      <td>Asia</td>\n",
       "      <td>Bachelor's</td>\n",
       "      <td>N</td>\n",
       "      <td>Y</td>\n",
       "      <td>44444</td>\n",
       "      <td>2008</td>\n",
       "      <td>West</td>\n",
       "      <td>122996.8600</td>\n",
       "      <td>Year</td>\n",
       "      <td>Y</td>\n",
       "      <td>Denied</td>\n",
       "    </tr>\n",
       "    <tr>\n",
       "      <th>3</th>\n",
       "      <td>EZYV04</td>\n",
       "      <td>Asia</td>\n",
       "      <td>Bachelor's</td>\n",
       "      <td>N</td>\n",
       "      <td>N</td>\n",
       "      <td>98</td>\n",
       "      <td>1897</td>\n",
       "      <td>West</td>\n",
       "      <td>83434.0300</td>\n",
       "      <td>Year</td>\n",
       "      <td>Y</td>\n",
       "      <td>Denied</td>\n",
       "    </tr>\n",
       "    <tr>\n",
       "      <th>4</th>\n",
       "      <td>EZYV05</td>\n",
       "      <td>Africa</td>\n",
       "      <td>Master's</td>\n",
       "      <td>Y</td>\n",
       "      <td>N</td>\n",
       "      <td>1082</td>\n",
       "      <td>2005</td>\n",
       "      <td>South</td>\n",
       "      <td>149907.3900</td>\n",
       "      <td>Year</td>\n",
       "      <td>Y</td>\n",
       "      <td>Certified</td>\n",
       "    </tr>\n",
       "    <tr>\n",
       "      <th>...</th>\n",
       "      <td>...</td>\n",
       "      <td>...</td>\n",
       "      <td>...</td>\n",
       "      <td>...</td>\n",
       "      <td>...</td>\n",
       "      <td>...</td>\n",
       "      <td>...</td>\n",
       "      <td>...</td>\n",
       "      <td>...</td>\n",
       "      <td>...</td>\n",
       "      <td>...</td>\n",
       "      <td>...</td>\n",
       "    </tr>\n",
       "    <tr>\n",
       "      <th>25474</th>\n",
       "      <td>EZYV25475</td>\n",
       "      <td>Africa</td>\n",
       "      <td>Doctorate</td>\n",
       "      <td>N</td>\n",
       "      <td>N</td>\n",
       "      <td>2594</td>\n",
       "      <td>1979</td>\n",
       "      <td>Northeast</td>\n",
       "      <td>51104.7800</td>\n",
       "      <td>Year</td>\n",
       "      <td>Y</td>\n",
       "      <td>Certified</td>\n",
       "    </tr>\n",
       "    <tr>\n",
       "      <th>25475</th>\n",
       "      <td>EZYV25476</td>\n",
       "      <td>Asia</td>\n",
       "      <td>Bachelor's</td>\n",
       "      <td>Y</td>\n",
       "      <td>Y</td>\n",
       "      <td>2601</td>\n",
       "      <td>2008</td>\n",
       "      <td>South</td>\n",
       "      <td>77092.5700</td>\n",
       "      <td>Year</td>\n",
       "      <td>Y</td>\n",
       "      <td>Certified</td>\n",
       "    </tr>\n",
       "    <tr>\n",
       "      <th>25477</th>\n",
       "      <td>EZYV25478</td>\n",
       "      <td>Asia</td>\n",
       "      <td>Master's</td>\n",
       "      <td>Y</td>\n",
       "      <td>N</td>\n",
       "      <td>1121</td>\n",
       "      <td>1910</td>\n",
       "      <td>South</td>\n",
       "      <td>146298.8500</td>\n",
       "      <td>Year</td>\n",
       "      <td>N</td>\n",
       "      <td>Certified</td>\n",
       "    </tr>\n",
       "    <tr>\n",
       "      <th>25478</th>\n",
       "      <td>EZYV25479</td>\n",
       "      <td>Asia</td>\n",
       "      <td>Master's</td>\n",
       "      <td>Y</td>\n",
       "      <td>Y</td>\n",
       "      <td>1918</td>\n",
       "      <td>1887</td>\n",
       "      <td>West</td>\n",
       "      <td>86154.7700</td>\n",
       "      <td>Year</td>\n",
       "      <td>Y</td>\n",
       "      <td>Certified</td>\n",
       "    </tr>\n",
       "    <tr>\n",
       "      <th>25479</th>\n",
       "      <td>EZYV25480</td>\n",
       "      <td>Asia</td>\n",
       "      <td>Bachelor's</td>\n",
       "      <td>Y</td>\n",
       "      <td>N</td>\n",
       "      <td>3195</td>\n",
       "      <td>1960</td>\n",
       "      <td>Midwest</td>\n",
       "      <td>70876.9100</td>\n",
       "      <td>Year</td>\n",
       "      <td>Y</td>\n",
       "      <td>Certified</td>\n",
       "    </tr>\n",
       "  </tbody>\n",
       "</table>\n",
       "<p>25053 rows × 12 columns</p>\n",
       "</div>"
      ],
      "text/plain": [
       "         case_id continent education_of_employee has_job_experience  \\\n",
       "0         EZYV01      Asia           High School                  N   \n",
       "1         EZYV02      Asia              Master's                  Y   \n",
       "2         EZYV03      Asia            Bachelor's                  N   \n",
       "3         EZYV04      Asia            Bachelor's                  N   \n",
       "4         EZYV05    Africa              Master's                  Y   \n",
       "...          ...       ...                   ...                ...   \n",
       "25474  EZYV25475    Africa             Doctorate                  N   \n",
       "25475  EZYV25476      Asia            Bachelor's                  Y   \n",
       "25477  EZYV25478      Asia              Master's                  Y   \n",
       "25478  EZYV25479      Asia              Master's                  Y   \n",
       "25479  EZYV25480      Asia            Bachelor's                  Y   \n",
       "\n",
       "      requires_job_training  no_of_employees  yr_of_estab  \\\n",
       "0                         N            14513         2007   \n",
       "1                         N             2412         2002   \n",
       "2                         Y            44444         2008   \n",
       "3                         N               98         1897   \n",
       "4                         N             1082         2005   \n",
       "...                     ...              ...          ...   \n",
       "25474                     N             2594         1979   \n",
       "25475                     Y             2601         2008   \n",
       "25477                     N             1121         1910   \n",
       "25478                     Y             1918         1887   \n",
       "25479                     N             3195         1960   \n",
       "\n",
       "      region_of_employment  prevailing_wage unit_of_wage full_time_position  \\\n",
       "0                     West         592.2029         Hour                  Y   \n",
       "1                Northeast       83425.6500         Year                  Y   \n",
       "2                     West      122996.8600         Year                  Y   \n",
       "3                     West       83434.0300         Year                  Y   \n",
       "4                    South      149907.3900         Year                  Y   \n",
       "...                    ...              ...          ...                ...   \n",
       "25474            Northeast       51104.7800         Year                  Y   \n",
       "25475                South       77092.5700         Year                  Y   \n",
       "25477                South      146298.8500         Year                  N   \n",
       "25478                 West       86154.7700         Year                  Y   \n",
       "25479              Midwest       70876.9100         Year                  Y   \n",
       "\n",
       "      case_status  \n",
       "0          Denied  \n",
       "1       Certified  \n",
       "2          Denied  \n",
       "3          Denied  \n",
       "4       Certified  \n",
       "...           ...  \n",
       "25474   Certified  \n",
       "25475   Certified  \n",
       "25477   Certified  \n",
       "25478   Certified  \n",
       "25479   Certified  \n",
       "\n",
       "[25053 rows x 12 columns]"
      ]
     },
     "execution_count": 19,
     "metadata": {},
     "output_type": "execute_result"
    }
   ],
   "source": [
    "con1=data>lb\n",
    "con2=data<ub\n",
    "con3=con1 & con2\n",
    "non_outlier=visa_df[con3]\n",
    "non_outlier"
   ]
  },
  {
   "cell_type": "code",
   "execution_count": 20,
   "id": "a81913cf-0f64-45b9-b122-dc0c56c22737",
   "metadata": {},
   "outputs": [
    {
     "data": {
      "image/png": "[encoded data removed]",
      "text/plain": [
       "<Figure size 640x480 with 1 Axes>"
      ]
     },
     "metadata": {},
     "output_type": "display_data"
    }
   ],
   "source": [
    "n=plt.hist(non_outlier['prevailing_wage'])"
   ]
  },
  {
   "cell_type": "markdown",
   "id": "9155f084-3013-42d6-bdda-fb3abd7adcd5",
   "metadata": {},
   "source": [
    "**how to draw boxplot**\n",
    "\n",
    "          Q1-1.5IQR   Q1   median  Q3   Q3+1.5IQR\r\n",
    "                       |-----:-----|\r\n",
    "       o      |--------|     :     |--------|    o  o\r\n",
    "                       |-----:-----|\r\n",
    "     flier             <----------->            fliers"
   ]
  },
  {
   "cell_type": "code",
   "execution_count": 78,
   "id": "1876870f-d809-4920-87eb-bff62fc26736",
   "metadata": {},
   "outputs": [
    {
     "data": {
      "image/png": "[encoded data removed]",
      "text/plain": [
       "<Figure size 640x480 with 1 Axes>"
      ]
     },
     "metadata": {},
     "output_type": "display_data"
    }
   ],
   "source": [
    "plt.boxplot(visa_df['prevailing_wage'],vert=False)\n",
    "plt.show()"
   ]
  },
  {
   "cell_type": "code",
   "execution_count": 21,
   "id": "6a33ae31-1213-46c8-8907-f4ba61e8fa71",
   "metadata": {},
   "outputs": [
    {
     "data": {
      "image/png": "[encoded data removed]",
      "text/plain": [
       "<Figure size 640x480 with 1 Axes>"
      ]
     },
     "metadata": {},
     "output_type": "display_data"
    }
   ],
   "source": [
    "sns.boxplot(visa_df['prevailing_wage'],orient='h')\n",
    "plt.show()"
   ]
  },
  {
   "cell_type": "code",
   "execution_count": 90,
   "id": "e8fd94e8-55bc-4813-8cf9-8f1c921d1c34",
   "metadata": {},
   "outputs": [
    {
     "data": {
      "image/png": "[encoded data removed]",
      "text/plain": [
       "<Figure size 1000x800 with 4 Axes>"
      ]
     },
     "metadata": {},
     "output_type": "display_data"
    }
   ],
   "source": [
    "plt.figure(figsize=(10,8))\n",
    "plt.suptitle('WAGE PLOTS')\n",
    "plt.subplot(2,2,1)\n",
    "plt.hist(visa_df['prevailing_wage'])\n",
    "plt.title('wage_histogram')\n",
    "plt.subplot(2,2,2)\n",
    "plt.boxplot(visa_df['prevailing_wage'],vert=False)\n",
    "plt.title('boxplot_histogram')\n",
    "plt.subplot(2,2,3)\n",
    "plt.hist(non_outlier['prevailing_wage'])\n",
    "plt.title('wage_histogram_with_out_outliers')\n",
    "plt.subplot(2,2,4)\n",
    "plt.boxplot(non_outlier['prevailing_wage'],vert=False)\n",
    "plt.title('wage_boxplot_with_out_outliers')\n",
    "plt.show()"
   ]
  },
  {
   "cell_type": "code",
   "execution_count": 91,
   "id": "00da6f31-27c1-4750-b6c8-cadb23f7fe50",
   "metadata": {},
   "outputs": [
    {
     "data": {
      "image/png": "[encoded data removed]",
      "text/plain": [
       "<Figure size 640x480 with 4 Axes>"
      ]
     },
     "metadata": {},
     "output_type": "display_data"
    }
   ],
   "source": [
    "plt.subplot(2,2,1).hist(visa_df['prevailing_wage'])\n",
    "plt.subplot(2,2,2).boxplot(visa_df['prevailing_wage'],vert=False)\n",
    "plt.subplot(2,2,3).hist(non_outlier['prevailing_wage'])\n",
    "plt.subplot(2,2,4).boxplot(non_outlier['prevailing_wage'],vert=False)\n",
    "plt.show()"
   ]
  },
  {
   "cell_type": "code",
   "execution_count": null,
   "id": "4be840e6-3c7d-40e8-92a0-59d0fb75b7b6",
   "metadata": {},
   "outputs": [],
   "source": []
  }
 ],
 "metadata": {
  "kernelspec": {
   "display_name": "Python 3 (ipykernel)",
   "language": "python",
   "name": "python3"
  },
  "language_info": {
   "codemirror_mode": {
    "name": "ipython",
    "version": 3
   },
   "file_extension": ".py",
   "mimetype": "text/x-python",
   "name": "python",
   "nbconvert_exporter": "python",
   "pygments_lexer": "ipython3",
   "version": "3.11.7"
  }
 },
 "nbformat": 4,
 "nbformat_minor": 5
}
